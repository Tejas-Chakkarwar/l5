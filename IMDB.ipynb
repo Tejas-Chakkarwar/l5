{
  "cells": [
    {
      "cell_type": "code",
      "execution_count": 1,
      "metadata": {
        "id": "AjG7RNL0WT6C"
      },
      "outputs": [],
      "source": [
        "import numpy as np\n",
        "import pandas as pd\n",
        "from sklearn.model_selection import train_test_split"
      ]
    },
    {
      "cell_type": "code",
      "execution_count": 2,
      "metadata": {
        "id": "T_zCxjScWYPX",
        "colab": {
          "base_uri": "https://localhost:8080/"
        },
        "outputId": "c6bc1455-62ca-4c70-c962-eeba4307eea8"
      },
      "outputs": [
        {
          "output_type": "stream",
          "name": "stdout",
          "text": [
            "Downloading data from https://storage.googleapis.com/tensorflow/tf-keras-datasets/imdb.npz\n",
            "17464789/17464789 [==============================] - 0s 0us/step\n"
          ]
        }
      ],
      "source": [
        "from keras.datasets import imdb\n",
        "#loading imdb data with most frequent 10000 words\n",
        "(X_train, y_train), (X_test, y_test) = imdb.load_data(num_words=10000)"
      ]
    },
    {
      "cell_type": "code",
      "execution_count": 3,
      "metadata": {
        "id": "Yal0LJWzWakc"
      },
      "outputs": [],
      "source": [
        "# you may take top 10,000word frequently used review of movies other are discarded\n",
        "#consolidating data for EDA Exploratory data analysis (EDA) is used by data scientists to analyze andinvestigate data sets and summarize their main characteristics\n",
        "data = np.concatenate((X_train, X_test), axis=0)"
      ]
    },
    {
      "cell_type": "code",
      "execution_count": 4,
      "metadata": {
        "id": "tz2ZVtqsWcBh"
      },
      "outputs": [],
      "source": [
        "# axis 0 is first running vertically downwards acrossrows (axis 0), axis 1 is second running horizontally across columns (axis 1),\n",
        "label = np.concatenate((y_train, y_test), axis=0)"
      ]
    },
    {
      "cell_type": "code",
      "execution_count": 5,
      "metadata": {
        "colab": {
          "base_uri": "https://localhost:8080/"
        },
        "id": "Kt7skYX1WlEb",
        "outputId": "5ff418d3-932f-427a-863a-e093ae1d37a5"
      },
      "outputs": [
        {
          "output_type": "stream",
          "name": "stdout",
          "text": [
            "Review is 1\n"
          ]
        }
      ],
      "source": [
        "# series of no converted word to vocabulory associated with index\n",
        "print(\"Review is\",y_train[0])"
      ]
    },
    {
      "cell_type": "code",
      "execution_count": 6,
      "metadata": {
        "colab": {
          "base_uri": "https://localhost:8080/"
        },
        "id": "3t1aXaYFWxn6",
        "outputId": "2f7cc960-f89f-40a4-ce93-310de3ab81d9"
      },
      "outputs": [
        {
          "output_type": "execute_result",
          "data": {
            "text/plain": [
              "array([1, 0, 0, ..., 0, 1, 0])"
            ]
          },
          "metadata": {},
          "execution_count": 6
        }
      ],
      "source": [
        "y_train"
      ]
    },
    {
      "cell_type": "code",
      "execution_count": 7,
      "metadata": {
        "colab": {
          "base_uri": "https://localhost:8080/"
        },
        "id": "7Q-0TatsWz4Y",
        "outputId": "a16a41e0-a7ed-46a9-b95e-c5e67d8dc1fc"
      },
      "outputs": [
        {
          "output_type": "execute_result",
          "data": {
            "text/plain": [
              "array([0, 1, 1, ..., 0, 0, 0])"
            ]
          },
          "metadata": {},
          "execution_count": 7
        }
      ],
      "source": [
        "y_test"
      ]
    },
    {
      "cell_type": "code",
      "execution_count": 8,
      "metadata": {
        "id": "qhhXkcTYW1Bb"
      },
      "outputs": [],
      "source": [
        "# Function to perform relevant sequence adding on the data\n",
        "# Now it is time to prepare our data. We will vectorize every review and fill it with zeros so that it contains exactly 10000 numbers.\n",
        "# That means we fill every review that is shorter than 500 with zeros.\n",
        "# We do this because the biggest review is nearly that long and every input for our neural network needsto have the same size.\n",
        "# We also transform the targets into floats.\n",
        "# sequences is name of method the review less than 10000 we perform padding overthere # binary vectorization code:\n",
        "# VECTORIZE as one cannot feed integers into a NN\n",
        "# Encoding the integer sequences into a binary matrix - one hot encoder basically\n",
        "# From integers representing words, at various lengths - to a normalized one hot encoded tensor (matrix)of 10k columns\n",
        "def vectorize(sequences, dimension = 10000):\n",
        "  # We will vectorize every review and fill it with zerosso that it contains exactly 10,000 numbers.\n",
        "  # Create an all-zero matrix of shape (len(sequences), dimension)r\n",
        "  results = np.zeros((len(sequences), dimension), dtype = 'float32')\n",
        "  for i, sequence in enumerate(sequences):\n",
        "    results[i, sequence] = 1\n",
        "  return results"
      ]
    },
    {
      "cell_type": "code",
      "execution_count": 9,
      "metadata": {
        "colab": {
          "base_uri": "https://localhost:8080/"
        },
        "id": "fKHuGV-YXCu7",
        "outputId": "1995ecc3-c67b-4e0c-8fe1-c44425c6104b"
      },
      "outputs": [
        {
          "output_type": "execute_result",
          "data": {
            "text/plain": [
              "(10000,)"
            ]
          },
          "metadata": {},
          "execution_count": 9
        }
      ],
      "source": [
        "# Now we split our data into a training and a testing set. # The training set will contain reviews and the testing set # \n",
        "# Set a VALIDATION set\n",
        "test_x = data[:10000]\n",
        "test_y = label[:10000]\n",
        "train_x = data[10000:]\n",
        "train_y = label[10000:]\n",
        "test_x.shape"
      ]
    },
    {
      "cell_type": "code",
      "execution_count": 10,
      "metadata": {
        "colab": {
          "base_uri": "https://localhost:8080/"
        },
        "id": "DE2G_IffXJq9",
        "outputId": "a1868e62-f7aa-448f-d183-663756419c7b"
      },
      "outputs": [
        {
          "output_type": "execute_result",
          "data": {
            "text/plain": [
              "(10000,)"
            ]
          },
          "metadata": {},
          "execution_count": 10
        }
      ],
      "source": [
        "test_y.shape"
      ]
    },
    {
      "cell_type": "code",
      "execution_count": 11,
      "metadata": {
        "colab": {
          "base_uri": "https://localhost:8080/"
        },
        "id": "6ZzJRBW6XLsD",
        "outputId": "702f4685-8758-474d-d182-eb0def146810"
      },
      "outputs": [
        {
          "output_type": "execute_result",
          "data": {
            "text/plain": [
              "(40000,)"
            ]
          },
          "metadata": {},
          "execution_count": 11
        }
      ],
      "source": [
        "train_x.shape"
      ]
    },
    {
      "cell_type": "code",
      "execution_count": 12,
      "metadata": {
        "colab": {
          "base_uri": "https://localhost:8080/"
        },
        "id": "4T42CNphXNac",
        "outputId": "4b006218-284c-4b65-9731-d221dde8b0c4"
      },
      "outputs": [
        {
          "output_type": "execute_result",
          "data": {
            "text/plain": [
              "(40000,)"
            ]
          },
          "metadata": {},
          "execution_count": 12
        }
      ],
      "source": [
        "train_y.shape"
      ]
    },
    {
      "cell_type": "code",
      "execution_count": 13,
      "metadata": {
        "id": "2dAw7EuZXuzo",
        "colab": {
          "base_uri": "https://localhost:8080/"
        },
        "outputId": "051b1615-a537-45bc-86c9-a4ffc68c5032"
      },
      "outputs": [
        {
          "output_type": "stream",
          "name": "stdout",
          "text": [
            "Downloading data from https://storage.googleapis.com/tensorflow/tf-keras-datasets/imdb_word_index.json\n",
            "1641221/1641221 [==============================] - 0s 0us/step\n"
          ]
        }
      ],
      "source": [
        "# Retrieves a dict mapping words to their index in the IMDB dataset\n",
        "index = imdb.get_word_index()\n",
        "# word to index"
      ]
    },
    {
      "cell_type": "code",
      "execution_count": 14,
      "metadata": {
        "id": "ph9ueGfHXxHl"
      },
      "outputs": [],
      "source": [
        "# Create inverted index from a dictionary with document ids as keys and a list of terms as values foreach document\n",
        "reverse_index = dict([(value, key) for (key, value) in index.items()])"
      ]
    },
    {
      "cell_type": "code",
      "execution_count": 15,
      "metadata": {
        "id": "Pzb3gb2AXzFj"
      },
      "outputs": [],
      "source": [
        "decoded = \" \".join( [reverse_index.get(i - 3, \"#\") for i in data[0]] )\n",
        "# The indices are offset by 3 because 0, 1 and 2 are reserved indices for \"padding\", \"start of sequence\"and \"unknown\""
      ]
    },
    {
      "cell_type": "code",
      "execution_count": 16,
      "metadata": {
        "colab": {
          "base_uri": "https://localhost:8080/"
        },
        "id": "NEgyq9_JX2lP",
        "outputId": "65c5ceec-0309-48ab-c21c-e2fb30a880aa"
      },
      "outputs": [
        {
          "output_type": "stream",
          "name": "stdout",
          "text": [
            "# this film was just brilliant casting location scenery story direction everyone's really suited the part they played and you could just imagine being there robert # is an amazing actor and now the same being director # father came from the same scottish island as myself so i loved the fact there was a real connection with this film the witty remarks throughout the film were great it was just brilliant so much that i bought the film as soon as it was released for # and would recommend it to everyone to watch and the fly fishing was amazing really cried at the end it was so sad and you know what they say if you cry at a film it must have been good and this definitely was also # to the two little boy's that played the # of norman and paul they were just brilliant children are often left out of the # list i think because the stars that play them all grown up are such a big profile for the whole film but these children are amazing and should be praised for what they have done don't you think the whole story was so lovely because it was true and was someone's life after all that was shared with us all\n"
          ]
        }
      ],
      "source": [
        "print(decoded)"
      ]
    },
    {
      "cell_type": "code",
      "execution_count": 17,
      "metadata": {
        "id": "wl8COfjIX6hA"
      },
      "outputs": [],
      "source": [
        "#import seaborn as sns\n",
        "#Adding sequence to data\n",
        "# Vectorization is the process of converting textual data into numerical vectors and is a process that is usually applied once the text is cleaned.\n",
        "data = vectorize(data)\n",
        "label = np.array(label).astype('float32')\n",
        "#labelDF=pd.DataFrame({'label':label})\n",
        "#sns.countplot(x='label', data=labelDF)"
      ]
    },
    {
      "cell_type": "code",
      "execution_count": 18,
      "metadata": {
        "colab": {
          "base_uri": "https://localhost:8080/"
        },
        "id": "z2WUOiD3YChJ",
        "outputId": "d982c7ee-ff5f-4a43-dc2e-18ff79722af7"
      },
      "outputs": [
        {
          "output_type": "execute_result",
          "data": {
            "text/plain": [
              "(40000, 10000)"
            ]
          },
          "metadata": {},
          "execution_count": 18
        }
      ],
      "source": [
        "# Creating train and test data set\n",
        "from sklearn.model_selection import train_test_split\n",
        "X_train, X_test, y_train, y_test = train_test_split(data,label, test_size=0.20, random_state=1)\n",
        "X_train.shape"
      ]
    },
    {
      "cell_type": "code",
      "execution_count": 19,
      "metadata": {
        "colab": {
          "base_uri": "https://localhost:8080/"
        },
        "id": "tadbwMaFZyFP",
        "outputId": "c6ec4899-aea8-4a01-82fb-45d2dfe90edf"
      },
      "outputs": [
        {
          "output_type": "execute_result",
          "data": {
            "text/plain": [
              "(10000, 10000)"
            ]
          },
          "metadata": {},
          "execution_count": 19
        }
      ],
      "source": [
        "X_test.shape"
      ]
    },
    {
      "cell_type": "code",
      "execution_count": 20,
      "metadata": {
        "id": "HG4BioAHZzzw"
      },
      "outputs": [],
      "source": [
        "# Let's create sequential model\n",
        "from keras.utils import to_categorical\n",
        "from keras import models\n",
        "from keras import layers"
      ]
    },
    {
      "cell_type": "code",
      "execution_count": 21,
      "metadata": {
        "id": "wOlhk0OtZ3N8"
      },
      "outputs": [],
      "source": [
        "# Input - Layer\n",
        "# Note that we set the input-shape to 10,000 at the input-layer because our reviews are 10,000 integerslong.\n",
        "# The input-layer takes 10,000 as input and outputs it with a shape of 50.\n",
        "#model = models.Sequential()\n",
        "#model.add(layers.Dense(50, activation = \"relu\", input_shape=(10000, )))\n",
        "model = models.Sequential()\n",
        "model.add(layers.Dense(16, activation='relu', input_shape=(10000,)))\n",
        "model.add(layers.Dense(16, activation='relu'))\n",
        "model.add(layers.Dense(1, activation='sigmoid'))"
      ]
    },
    {
      "cell_type": "code",
      "execution_count": 22,
      "metadata": {
        "id": "TwJo3SvmZ8M4"
      },
      "outputs": [],
      "source": [
        "# Hidden - Layers\n",
        "# Please note you should always use a dropout rate between 20% and 50%. # here in our case 0.3 means30% dropout we are using dropout to prevent overfitting.\n",
        "# By the way, if you want you can build a sentiment analysis without LSTMs, then you simply need toreplace it by a flatten layer:\n",
        "#model.add(layers.Dropout(0.3, noise_shape=None, seed=None))\n",
        "#model.add(layers.Dense(50, activation = \"relu\"))\n",
        "#model.add(layers.Dropout(0.2, noise_shape=None, seed=None))\n",
        "#model.add(layers.Dense(50, activation = \"relu\"))"
      ]
    },
    {
      "cell_type": "code",
      "execution_count": 23,
      "metadata": {
        "colab": {
          "base_uri": "https://localhost:8080/"
        },
        "id": "pzbGNpO2aFpy",
        "outputId": "27b489d3-706a-4336-fb9d-236b3ec5ccaa"
      },
      "outputs": [
        {
          "output_type": "stream",
          "name": "stdout",
          "text": [
            "Model: \"sequential\"\n",
            "_________________________________________________________________\n",
            " Layer (type)                Output Shape              Param #   \n",
            "=================================================================\n",
            " dense (Dense)               (None, 16)                160016    \n",
            "                                                                 \n",
            " dense_1 (Dense)             (None, 16)                272       \n",
            "                                                                 \n",
            " dense_2 (Dense)             (None, 1)                 17        \n",
            "                                                                 \n",
            "=================================================================\n",
            "Total params: 160,305\n",
            "Trainable params: 160,305\n",
            "Non-trainable params: 0\n",
            "_________________________________________________________________\n"
          ]
        }
      ],
      "source": [
        "# Output- Layer\n",
        "#model.add(layers.Dense(1, activation = \"sigmoid\"))\n",
        "model.summary()"
      ]
    },
    {
      "cell_type": "code",
      "execution_count": 24,
      "metadata": {
        "id": "g0cStkGZaTvA"
      },
      "outputs": [],
      "source": [
        "# We use the “adam” optimizer, an algorithm that changes the weights and biasesduring training.\n",
        "# We also choose binary-crossentropy as loss (because we deal with binary classification) and accuracy as our evaluation metric.\n",
        "model.compile( optimizer = \"adam\", loss = \"binary_crossentropy\", metrics = [\"accuracy\"])\n",
        "from sklearn.model_selection import train_test_split"
      ]
    },
    {
      "cell_type": "code",
      "execution_count": 25,
      "metadata": {
        "colab": {
          "base_uri": "https://localhost:8080/"
        },
        "id": "9oADXlkdakbC",
        "outputId": "a6578be0-321c-4de8-e670-6f44f95cc298"
      },
      "outputs": [
        {
          "output_type": "stream",
          "name": "stdout",
          "text": [
            "Epoch 1/2\n",
            "80/80 [==============================] - 5s 49ms/step - loss: 0.3854 - accuracy: 0.8439 - val_loss: 0.2668 - val_accuracy: 0.8980\n",
            "Epoch 2/2\n",
            "80/80 [==============================] - 3s 37ms/step - loss: 0.2163 - accuracy: 0.9180 - val_loss: 0.2642 - val_accuracy: 0.8981\n"
          ]
        }
      ],
      "source": [
        "results = model.fit( X_train, y_train, epochs= 2, batch_size = 500, validation_data = (X_test, y_test))"
      ]
    },
    {
      "cell_type": "code",
      "execution_count": 26,
      "metadata": {
        "colab": {
          "base_uri": "https://localhost:8080/"
        },
        "id": "fzurjj7kar9D",
        "outputId": "7853607e-41c6-44fb-d4c9-2c2aa4b3d1f8"
      },
      "outputs": [
        {
          "output_type": "stream",
          "name": "stdout",
          "text": [
            "0.8980500102043152\n",
            "20/20 [==============================] - 1s 44ms/step - loss: 0.2642 - accuracy: 0.8981\n",
            "Test loss: 0.2641599774360657\n",
            "Test accuracy: 0.8981000185012817\n"
          ]
        }
      ],
      "source": [
        "# Let's check mean accuracy of our model\n",
        "print(np.mean(results.history['val_accuracy'])) # Evaluate the model\n",
        "score = model.evaluate(X_test, y_test, batch_size=500)\n",
        "print('Test loss:', score[0])\n",
        "print('Test accuracy:', score[1])"
      ]
    },
    {
      "cell_type": "code",
      "execution_count": 27,
      "metadata": {
        "colab": {
          "base_uri": "https://localhost:8080/",
          "height": 472
        },
        "id": "PkT51Pkba48X",
        "outputId": "7578bfb1-f404-4eb4-c51b-bb5c0df556bc"
      },
      "outputs": [
        {
          "output_type": "display_data",
          "data": {
            "text/plain": [
              "<Figure size 640x480 with 1 Axes>"
            ],
            "image/png": "[encoded data removed]"
          },
          "metadata": {}
        }
      ],
      "source": [
        "# summarize history for accuracy\n",
        "import matplotlib.pyplot as plt\n",
        "plt.plot(results.history['accuracy'])\n",
        "plt.plot(results.history['val_accuracy'])\n",
        "plt.title('model accuracy')\n",
        "plt.ylabel('accuracy')\n",
        "plt.xlabel('epoch')\n",
        "plt.legend(['train', 'test'], loc='upper left')\n",
        "plt.show()"
      ]
    },
    {
      "cell_type": "code",
      "execution_count": 28,
      "metadata": {
        "colab": {
          "base_uri": "https://localhost:8080/",
          "height": 472
        },
        "id": "wxD8dT0GbPrG",
        "outputId": "b72ac3b6-37dd-4479-8779-d97017cc4ab6"
      },
      "outputs": [
        {
          "output_type": "display_data",
          "data": {
            "text/plain": [
              "<Figure size 640x480 with 1 Axes>"
            ],
            "image/png": "[encoded data removed]"
          },
          "metadata": {}
        }
      ],
      "source": [
        "plt.plot(results.history['loss'])\n",
        "plt.plot(results.history['val_loss'])\n",
        "plt.title('model loss')\n",
        "plt.ylabel('loss')\n",
        "plt.xlabel('epoch')\n",
        "plt.legend(['train', 'test'], loc='upper left')\n",
        "plt.show()"
      ]
    },
    {
      "cell_type": "code",
      "execution_count": null,
      "metadata": {
        "id": "1rClPPTxaXa4"
      },
      "outputs": [],
      "source": []
    }
  ],
  "metadata": {
    "colab": {
      "provenance": []
    },
    "kernelspec": {
      "display_name": "Python 3 (ipykernel)",
      "language": "python",
      "name": "python3"
    },
    "language_info": {
      "codemirror_mode": {
        "name": "ipython",
        "version": 3
      },
      "file_extension": ".py",
      "mimetype": "text/x-python",
      "name": "python",
      "nbconvert_exporter": "python",
      "pygments_lexer": "ipython3",
      "version": "3.9.13"
    }
  },
  "nbformat": 4,
  "nbformat_minor": 0
}